{
 "cells": [
  {
   "cell_type": "code",
   "execution_count": 1,
   "id": "a03e74de-2b2e-42b1-b03f-d05e3a9216fb",
   "metadata": {},
   "outputs": [],
   "source": [
    "# bus routes"
   ]
  },
  {
   "cell_type": "code",
   "execution_count": null,
   "id": "4564b976-eae2-495c-921e-543e1bf1fd68",
   "metadata": {},
   "outputs": [],
   "source": [
    "import osmnx as ox\n",
    "ox.__version__ # '0.13.0'\n",
    "\n",
    "\n",
    "tags = {'route' : 'bus'}\n",
    "gdfox = ox.pois_from_place('Hannover, Germany', tags)\n",
    "gdfox.shape # (4022, 988)\n",
    "gdfox['element_type'].value_counts() # node    2412, way     1610"
   ]
  }
 ],
 "metadata": {
  "kernelspec": {
   "display_name": "Python 3 (ipykernel)",
   "language": "python",
   "name": "python3"
  },
  "language_info": {
   "codemirror_mode": {
    "name": "ipython",
    "version": 3
   },
   "file_extension": ".py",
   "mimetype": "text/x-python",
   "name": "python",
   "nbconvert_exporter": "python",
   "pygments_lexer": "ipython3",
   "version": "3.11.12"
  }
 },
 "nbformat": 4,
 "nbformat_minor": 5
}
