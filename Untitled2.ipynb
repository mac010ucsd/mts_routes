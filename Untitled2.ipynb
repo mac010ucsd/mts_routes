{
 "cells": [
  {
   "cell_type": "code",
   "execution_count": 1,
   "id": "a03e74de-2b2e-42b1-b03f-d05e3a9216fb",
   "metadata": {},
   "outputs": [],
   "source": [
    "# bus routes"
   ]
  },
  {
   "cell_type": "code",
   "execution_count": 2,
   "id": "4564b976-eae2-495c-921e-543e1bf1fd68",
   "metadata": {},
   "outputs": [],
   "source": [
    "import osmnx as ox\n"
   ]
  },
  {
   "cell_type": "code",
   "execution_count": 5,
   "id": "582e810f-4137-4974-a928-c09c9f224d11",
   "metadata": {},
   "outputs": [
    {
     "name": "stderr",
     "output_type": "stream",
     "text": [
      "/opt/homebrew/lib/python3.11/site-packages/osmnx/features.py:718: FutureWarning: <class 'geopandas.array.GeometryArray'>._reduce will require a `keepdims` parameter in the future\n",
      "  gdf = gdf[geom_filter & tags_filter].dropna(axis=\"columns\", how=\"all\")\n"
     ]
    },
    {
     "ename": "InsufficientResponseError",
     "evalue": "No matching features. Check query location, tags, and log.",
     "output_type": "error",
     "traceback": [
      "\u001b[31m---------------------------------------------------------------------------\u001b[39m",
      "\u001b[31mInsufficientResponseError\u001b[39m                 Traceback (most recent call last)",
      "\u001b[36mCell\u001b[39m\u001b[36m \u001b[39m\u001b[32mIn[5]\u001b[39m\u001b[32m, line 4\u001b[39m\n\u001b[32m      1\u001b[39m \u001b[38;5;66;03m#ox.graph.graph_from_point(center, radius, network_type=l)\u001b[39;00m\n\u001b[32m      3\u001b[39m tags = {\u001b[33m'\u001b[39m\u001b[33mroute\u001b[39m\u001b[33m'\u001b[39m : \u001b[33m'\u001b[39m\u001b[33mbus\u001b[39m\u001b[33m'\u001b[39m}\n\u001b[32m----> \u001b[39m\u001b[32m4\u001b[39m gdfox = \u001b[43mox\u001b[49m\u001b[43m.\u001b[49m\u001b[43mfeatures\u001b[49m\u001b[43m.\u001b[49m\u001b[43mfeatures_from_address\u001b[49m\u001b[43m(\u001b[49m\u001b[33;43m'\u001b[39;49m\u001b[33;43mUCSD\u001b[39;49m\u001b[33;43m'\u001b[39;49m\u001b[43m,\u001b[49m\u001b[43m \u001b[49m\u001b[43mtags\u001b[49m\u001b[43m,\u001b[49m\u001b[43m \u001b[49m\u001b[32;43m2000\u001b[39;49m\u001b[43m)\u001b[49m\n\u001b[32m      5\u001b[39m gdfox.shape \u001b[38;5;66;03m# (4022, 988)\u001b[39;00m\n\u001b[32m      6\u001b[39m gdfox[\u001b[33m'\u001b[39m\u001b[33melement_type\u001b[39m\u001b[33m'\u001b[39m].value_counts() \u001b[38;5;66;03m# node    2412, way     1610\u001b[39;00m\n",
      "\u001b[36mFile \u001b[39m\u001b[32m/opt/homebrew/lib/python3.11/site-packages/osmnx/features.py:218\u001b[39m, in \u001b[36mfeatures_from_address\u001b[39m\u001b[34m(address, tags, dist)\u001b[39m\n\u001b[32m    216\u001b[39m \u001b[38;5;66;03m# geocode the address to a point, then create gdf of features around it\u001b[39;00m\n\u001b[32m    217\u001b[39m center_point = geocoder.geocode(address)\n\u001b[32m--> \u001b[39m\u001b[32m218\u001b[39m \u001b[38;5;28;01mreturn\u001b[39;00m \u001b[43mfeatures_from_point\u001b[49m\u001b[43m(\u001b[49m\u001b[43mcenter_point\u001b[49m\u001b[43m,\u001b[49m\u001b[43m \u001b[49m\u001b[43mtags\u001b[49m\u001b[43m,\u001b[49m\u001b[43m \u001b[49m\u001b[43mdist\u001b[49m\u001b[43m)\u001b[49m\n",
      "\u001b[36mFile \u001b[39m\u001b[32m/opt/homebrew/lib/python3.11/site-packages/osmnx/features.py:175\u001b[39m, in \u001b[36mfeatures_from_point\u001b[39m\u001b[34m(center_point, tags, dist)\u001b[39m\n\u001b[32m    173\u001b[39m \u001b[38;5;66;03m# create bbox from point and dist, then create gdf of features within it\u001b[39;00m\n\u001b[32m    174\u001b[39m bbox = utils_geo.bbox_from_point(center_point, dist)\n\u001b[32m--> \u001b[39m\u001b[32m175\u001b[39m \u001b[38;5;28;01mreturn\u001b[39;00m \u001b[43mfeatures_from_bbox\u001b[49m\u001b[43m(\u001b[49m\u001b[43mbbox\u001b[49m\u001b[43m,\u001b[49m\u001b[43m \u001b[49m\u001b[43mtags\u001b[49m\u001b[43m)\u001b[49m\n",
      "\u001b[36mFile \u001b[39m\u001b[32m/opt/homebrew/lib/python3.11/site-packages/osmnx/features.py:130\u001b[39m, in \u001b[36mfeatures_from_bbox\u001b[39m\u001b[34m(bbox, tags)\u001b[39m\n\u001b[32m    128\u001b[39m \u001b[38;5;66;03m# convert bbox to polygon then create GeoDataFrame of features within it\u001b[39;00m\n\u001b[32m    129\u001b[39m polygon = utils_geo.bbox_to_poly(bbox)\n\u001b[32m--> \u001b[39m\u001b[32m130\u001b[39m \u001b[38;5;28;01mreturn\u001b[39;00m \u001b[43mfeatures_from_polygon\u001b[49m\u001b[43m(\u001b[49m\u001b[43mpolygon\u001b[49m\u001b[43m,\u001b[49m\u001b[43m \u001b[49m\u001b[43mtags\u001b[49m\u001b[43m)\u001b[49m\n",
      "\u001b[36mFile \u001b[39m\u001b[32m/opt/homebrew/lib/python3.11/site-packages/osmnx/features.py:332\u001b[39m, in \u001b[36mfeatures_from_polygon\u001b[39m\u001b[34m(polygon, tags)\u001b[39m\n\u001b[32m    330\u001b[39m \u001b[38;5;66;03m# retrieve the data from Overpass then turn it into a GeoDataFrame\u001b[39;00m\n\u001b[32m    331\u001b[39m response_jsons = _overpass._download_overpass_features(polygon, tags)\n\u001b[32m--> \u001b[39m\u001b[32m332\u001b[39m \u001b[38;5;28;01mreturn\u001b[39;00m \u001b[43m_create_gdf\u001b[49m\u001b[43m(\u001b[49m\u001b[43mresponse_jsons\u001b[49m\u001b[43m,\u001b[49m\u001b[43m \u001b[49m\u001b[43mpolygon\u001b[49m\u001b[43m,\u001b[49m\u001b[43m \u001b[49m\u001b[43mtags\u001b[49m\u001b[43m)\u001b[49m\n",
      "\u001b[36mFile \u001b[39m\u001b[32m/opt/homebrew/lib/python3.11/site-packages/osmnx/features.py:427\u001b[39m, in \u001b[36m_create_gdf\u001b[39m\u001b[34m(response_jsons, polygon, tags)\u001b[39m\n\u001b[32m    417\u001b[39m \u001b[38;5;66;03m# convert the elements into a GeoDataFrame of features\u001b[39;00m\n\u001b[32m    418\u001b[39m gdf = (\n\u001b[32m    419\u001b[39m     gpd.GeoDataFrame(\n\u001b[32m    420\u001b[39m         data=_process_features(elements, \u001b[38;5;28mset\u001b[39m(tags.keys())),\n\u001b[32m   (...)\u001b[39m\u001b[32m    425\u001b[39m     .sort_index()\n\u001b[32m    426\u001b[39m )\n\u001b[32m--> \u001b[39m\u001b[32m427\u001b[39m \u001b[38;5;28;01mreturn\u001b[39;00m \u001b[43m_filter_features\u001b[49m\u001b[43m(\u001b[49m\u001b[43mgdf\u001b[49m\u001b[43m,\u001b[49m\u001b[43m \u001b[49m\u001b[43mpolygon\u001b[49m\u001b[43m,\u001b[49m\u001b[43m \u001b[49m\u001b[43mtags\u001b[49m\u001b[43m)\u001b[49m\n",
      "\u001b[36mFile \u001b[39m\u001b[32m/opt/homebrew/lib/python3.11/site-packages/osmnx/features.py:721\u001b[39m, in \u001b[36m_filter_features\u001b[39m\u001b[34m(gdf, polygon, tags)\u001b[39m\n\u001b[32m    719\u001b[39m \u001b[38;5;28;01mif\u001b[39;00m \u001b[38;5;28mlen\u001b[39m(gdf) == \u001b[32m0\u001b[39m:  \u001b[38;5;66;03m# pragma: no cover\u001b[39;00m\n\u001b[32m    720\u001b[39m     msg = \u001b[33m\"\u001b[39m\u001b[33mNo matching features. Check query location, tags, and log.\u001b[39m\u001b[33m\"\u001b[39m\n\u001b[32m--> \u001b[39m\u001b[32m721\u001b[39m     \u001b[38;5;28;01mraise\u001b[39;00m InsufficientResponseError(msg)\n\u001b[32m    723\u001b[39m msg = \u001b[33mf\u001b[39m\u001b[33m\"\u001b[39m\u001b[38;5;132;01m{\u001b[39;00m\u001b[38;5;28mlen\u001b[39m(gdf)\u001b[38;5;132;01m:\u001b[39;00m\u001b[33m,\u001b[39m\u001b[38;5;132;01m}\u001b[39;00m\u001b[33m features in the final GeoDataFrame\u001b[39m\u001b[33m\"\u001b[39m\n\u001b[32m    724\u001b[39m utils.log(msg, level=lg.INFO)\n",
      "\u001b[31mInsufficientResponseError\u001b[39m: No matching features. Check query location, tags, and log."
     ]
    }
   ],
   "source": [
    "#ox.graph.graph_from_point(center, radius, network_type=l)\n",
    "\n",
    "tags = {'route' : 'bus'}\n",
    "gdfox = ox.features.features_from_address('UCSD', tags, 2000)\n",
    "gdfox.shape # (4022, 988)\n",
    "gdfox['element_type'].value_counts() # node    2412, way     1610"
   ]
  },
  {
   "cell_type": "code",
   "execution_count": null,
   "id": "ae88907c-ad70-4367-b073-c1bc2cda31ee",
   "metadata": {},
   "outputs": [],
   "source": []
  }
 ],
 "metadata": {
  "kernelspec": {
   "display_name": "Python 3 (ipykernel)",
   "language": "python",
   "name": "python3"
  },
  "language_info": {
   "codemirror_mode": {
    "name": "ipython",
    "version": 3
   },
   "file_extension": ".py",
   "mimetype": "text/x-python",
   "name": "python",
   "nbconvert_exporter": "python",
   "pygments_lexer": "ipython3",
   "version": "3.11.12"
  }
 },
 "nbformat": 4,
 "nbformat_minor": 5
}
